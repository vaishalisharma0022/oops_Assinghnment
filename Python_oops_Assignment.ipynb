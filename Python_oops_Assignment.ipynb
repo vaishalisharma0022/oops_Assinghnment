{
 "cells": [
  {
   "cell_type": "markdown",
   "id": "97c02b97-9aae-4abf-99b0-20d8dde6aff3",
   "metadata": {},
   "source": [
    "## Python oops \n",
    "## Assignment:"
   ]
  },
  {
   "cell_type": "markdown",
   "id": "f3ac9278-88e8-4245-bd88-0c406a3c126c",
   "metadata": {},
   "source": [
    "\n",
    "# Python OOPs Questions "
   ]
  },
  {
   "cell_type": "markdown",
   "id": "7c06fcc0-f177-49ab-8153-5f55f4f69600",
   "metadata": {},
   "source": [
    "Q1. What is Object-Oriented Programming (OOP)?\n"
   ]
  },
  {
   "cell_type": "markdown",
   "id": "fd9d5768-3d3c-4f30-a636-d40753da8e68",
   "metadata": {},
   "source": [
    "Ans. Object-Oriented Programming (OOP) is a programming paradigm that organizes code around objects, which are instances of classes. A class defines properties (attributes) and behaviors (methods) that objects can have. OOP emphasizes four key principles:\n",
    "\n",
    "1. Encapsulation: Bundling data and methods within a class, restricting direct access to some components to protect the object's integrity.\n",
    "2. Inheritance: Allowing a class (subclass) to inherit properties and methods from another class (superclass), promoting code reuse.\n",
    "3. Polymorphism: Enabling objects of different classes to be treated as objects of a common superclass, often through method overriding or overloading.\n",
    "4. Abstraction: Hiding complex implementation details and exposing only essential features to simplify interaction with objects.\n",
    "\n",
    "OOP is widely used in languages like Java, C++, Python, and C# to create modular, reusable, and maintainable code."
   ]
  },
  {
   "cell_type": "markdown",
   "id": "4c964bb4-142c-47d0-b3de-471edf96fcc0",
   "metadata": {},
   "source": [
    "Q2. What is a class in OOP?\n"
   ]
  },
  {
   "cell_type": "markdown",
   "id": "16c928ff-9049-4fe7-8fc8-066fcea603e2",
   "metadata": {},
   "source": [
    "Ans. \n",
    "A class in Object-Oriented Programming (OOP) is a blueprint or template that defines the properties (attributes) and behaviors (methods) that objects created from it will have. It acts as a user-defined data type, encapsulating data and the operations that can be performed on that data."
   ]
  },
  {
   "cell_type": "markdown",
   "id": "4bde0653-a63d-483c-91db-1eb90a75c022",
   "metadata": {},
   "source": [
    "Q3. What is an object in OOP?\n"
   ]
  },
  {
   "cell_type": "markdown",
   "id": "78329557-2f66-41fb-8724-666f9b314563",
   "metadata": {},
   "source": [
    "Ans. An object in Object-Oriented Programming (OOP) is an instance of a class, representing a specific entity that has the properties (attributes) and behaviors (methods) defined by its class. Objects are created from a class blueprint and encapsulate data and functionality specific to that instance."
   ]
  },
  {
   "cell_type": "markdown",
   "id": "7d5394d6-907b-483b-ba4b-71d6c85a1f1c",
   "metadata": {},
   "source": [
    "Q4. What is the difference between abstraction and encapsulation?\n"
   ]
  },
  {
   "cell_type": "markdown",
   "id": "6f2736d5-b1a2-4f07-8f3f-a0d41e588c37",
   "metadata": {},
   "source": [
    "Ans. Abstraction and encapsulation are fundamental concepts in object-oriented programming, but they serve different purposes:\n",
    "\n",
    "* Abstraction:\n",
    "    * Focuses on what an object does, not how it does it.\n",
    "    * Simplifies complex systems by hiding unnecessary details and exposing only relevant features or behaviors.\n",
    "    * Achieved through interfaces, abstract classes, or method signatures.\n",
    "    * Example: A Car class provides a drive() method. The user knows it makes the car move but doesn't need to know the engine's inner workings.\n",
    "    * Think of it as a \"black box\" where only the essential interface is visible.\n",
    "* Encapsulation:\n",
    "    * Focuses on how data and methods are bundled and protected within an object.\n",
    "    * Hides the internal state of an object and restricts direct access to it, typically using access modifiers (e.g., private, public).\n",
    "    * Achieved by making data private and providing public methods (getters/setters) to interact with it.\n",
    "    * Example: A BankAccount class has a private balance variable. Users can only modify it through a public deposit() or withdraw() method, ensuring controlled access.\n",
    "    * Think of it as a \"protective shield\" around an object's data."
   ]
  },
  {
   "cell_type": "markdown",
   "id": "3eb04d32-be6d-4040-a57d-2718a4be776f",
   "metadata": {},
   "source": [
    "Q5. What are dunder methods in Python?\n"
   ]
  },
  {
   "cell_type": "markdown",
   "id": "17a91cac-f74a-4477-9a63-f5aab70357a3",
   "metadata": {},
   "source": [
    "Ans. Dunder methods in Python, also known as double underscore methods or magic methods, are special methods with names surrounded by double underscores (e.g., __init__, __str__). They define how Python objects behave in specific situations, enabling customization of built-in operations or behaviors.\n",
    "\n",
    "Key Points:\n",
    "* Purpose: Dunder methods allow classes to emulate built-in Python behavior or implement operator overloading.\n",
    "* Syntax: They start and end with __ (e.g., __add__, __len__).\n",
    "* Common Examples:\n",
    "  * __init__(self, ...): Constructor, initializes an object.\n",
    "  * __str__(self): Defines string representation for str(obj) or print(obj).\n",
    "  * __repr__(self): Defines a detailed string representation, often for debugging. \n",
    "  * __add__(self, other): Defines behavior for the + operator.\n",
    "  * __len__(self): Defines behavior for len(obj).\n",
    "  * __call__(self, ...): Allows an object to be called like a function.\n",
    "* Usage: They are implicitly called by Python during specific operations, not typically called directly (e.g., obj + other calls obj.__add__(other))."
   ]
  },
  {
   "cell_type": "markdown",
   "id": "5c0e5a03-4233-4222-83d3-7652755d0786",
   "metadata": {},
   "source": [
    "Q6. Explain the concept of inheritance in OOP.\n"
   ]
  },
  {
   "cell_type": "markdown",
   "id": "1198c3fd-a37c-441c-94ff-5ae557c33daa",
   "metadata": {},
   "source": [
    "Ans. Inheritance in Object-Oriented Programming (OOP) is a mechanism where a new class, called a child class (or subclass), derives properties and behaviors (attributes and methods) from an existing class, called a parent class (or superclass). This promotes code reuse, modularity, and hierarchical organization.\n",
    "\n",
    "Key Points:\n",
    "* Purpose: Allows a child class to inherit attributes and methods from a parent class, reducing redundancy and enabling specialization.\n",
    "* Syntax: The child class is defined as extending the parent class (e.g., in Python: class Child(Parent):).\n",
    "* Types of Inheritance:\n",
    "    * Single Inheritance: A child class inherits from one parent class.\n",
    "    * Multiple Inheritance: A child class inherits from multiple parent classes (supported in languages like Python, not Java).\n",
    "    * Multilevel Inheritance: A class inherits from a parent, which itself inherits from another parent (e.g., A → B → C).\n",
    "    * Hierarchical Inheritance: Multiple child classes inherit from a single parent.\n",
    "    * Hybrid Inheritance: A combination of multiple inheritance types (complex and language-dependent).\n",
    "* Features:\n",
    "    * Overriding: Child classes can redefine (override) parent class methods to provide specific behavior.\n",
    "    * Extending: Child classes can add new attributes or methods not present in the parent.\n",
    "    * Access to Parent: Child classes can call parent class methods using mechanisms like super() in Python or super in Java.\n",
    "* Benefits:\n",
    "    * Reuses code, reducing duplication.\n",
    "    * Establishes a natural hierarchy (e.g., Animal → Dog).\n",
    "    * Facilitates polymorphism (treating child objects as parent types).\n",
    "* Drawbacks:\n",
    "    * Tight coupling between parent and child can complicate maintenance.\n",
    "    * Overuse or improper design can lead to complex, hard-to-understand hierarchies."
   ]
  },
  {
   "cell_type": "markdown",
   "id": "7823bff5-b613-4457-a6e1-ec0b7102ee0f",
   "metadata": {},
   "source": [
    "Q7. What is polymorphism in OOP?\n"
   ]
  },
  {
   "cell_type": "markdown",
   "id": "80c9f669-8e87-4adc-8f7b-0553db90cb51",
   "metadata": {},
   "source": [
    "Ans. Polymorphism in Object-Oriented Programming (OOP) is the ability of different classes to be treated as instances of a common parent class, allowing objects to respond to the same method call in different ways based on their specific implementation. It promotes flexibility and extensibility in code.\n",
    "\n",
    "Key Points:\n",
    "* Definition: Derived from Greek, meaning \"many forms.\" Polymorphism allows a single interface to represent different underlying forms (data types).\n",
    "* Purpose: Enables a unified interface for diverse objects, simplifying code and supporting extensibility.\n",
    "* Types of Polymorphism:\n",
    " * Compile-time (Static) Polymorphism:\n",
    "    * Achieved through method overloading (same method name, different parameters) or operator overloading.\n",
    "    * Resolved at compile time.\n",
    "    * Example: Multiple methods with the same name but different signatures (common in C++, Java; Python does not support method overloading natively).\n",
    " * Run-time (Dynamic) Polymorphism:\n",
    "    * Achieved through method overriding, where a child class redefines a parent class method.\n",
    "    * Resolved at runtime using inheritance and virtual functions (or equivalent).\n",
    "    * Example: A parent class Animal with a speak() method overridden by Dog and Cat subclasses."
   ]
  },
  {
   "cell_type": "markdown",
   "id": "2d8474c5-0209-406f-b801-c84875ba207b",
   "metadata": {},
   "source": [
    "Q8. How is encapsulation achieved in Python?\n"
   ]
  },
  {
   "cell_type": "markdown",
   "id": "0462f309-34ce-433d-9f57-09432a9c95d7",
   "metadata": {},
   "source": [
    "Ans. \n",
    "Encapsulation in Python is achieved by bundling data (attributes) and methods within a class and controlling access to them, typically by using access modifiers to hide internal details and protect an object's state. While Python does not enforce strict access control like some languages (e.g., Java or C++), it uses conventions and mechanisms to implement encapsulation.\n",
    "\n",
    "How Encapsulation is Achieved in Python:\n",
    "1. Private Attributes/Methods (Single Underscore _):\n",
    "    * A single underscore prefix (e.g., _variable, _method) indicates that an attribute or method is intended for internal use within the class or module.\n",
    "    * This is a convention, not enforced by Python; external code can still access these members, but it’s discouraged.\n",
    "2. Protected Attributes/Methods (Double Underscore __):\n",
    "    * A double underscore prefix (e.g., __variable, __method) triggers name mangling, making the attribute or method private by prefixing it with _ClassName in the internal representation (e.g., _MyClass__variable).\n",
    "    * This prevents accidental access from outside the class, though it can still be accessed with the mangled name (not recommended).\n",
    "3. Public Attributes/Methods:\n",
    "    * Attributes and methods without underscores (e.g., variable, method) are public by default and can be accessed freely.\n",
    "    * Encapsulation often involves providing public methods (getters and setters) to interact with private attributes safely.\n",
    "4. Property Decorators:\n",
    "    * Python provides the @property decorator to create getter and setter methods that allow controlled access to private attributes while maintaining a clean, attribute-like syntax.\n",
    "    * This is a modern way to implement encapsulation in Python."
   ]
  },
  {
   "cell_type": "markdown",
   "id": "d39b0ab7-e15b-44b9-9eee-1002e57ce023",
   "metadata": {},
   "source": [
    "Q9. What is a constructor in Python?\n"
   ]
  },
  {
   "cell_type": "markdown",
   "id": "950c90d0-375d-4d63-b093-5d1f93b81130",
   "metadata": {},
   "source": [
    "Ans. A constructor in Python is a special method used to initialize a newly created object. It is defined using the __init__ dunder (double underscore) method within a class. When an object of the class is instantiated, the constructor is automatically called to set up the object's initial state by assigning values to its attributes.\n",
    "\n",
    "Key Points:\n",
    "* Definition: The __init__ method is the constructor in Python, responsible for initializing instance variables or performing setup tasks when an object is created.\n",
    "* Syntax: Defined as def __init__(self, *args, **kwargs): inside a class, where self refers to the instance being created, and *args, **kwargs are optional parameters for initialization.\n",
    "* Automatic Invocation: Called automatically when an object is instantiated using the class name, e.g., obj = ClassName(args).\n",
    "* Purpose:\n",
    "    * Initializes instance-specific attributes.\n",
    "    * Sets up the object’s initial state or configuration.\n",
    "* No Return Value: The __init__ method should not return anything (implicitly returns None). Returning a value raises a TypeError.\n",
    "* Optional Parameters: Can take additional parameters beyond self to customize object initialization."
   ]
  },
  {
   "cell_type": "markdown",
   "id": "c8a6d789-329a-41f5-a662-2528d3a3f669",
   "metadata": {},
   "source": [
    "Q10. What are class and static methods in Python?\n"
   ]
  },
  {
   "cell_type": "markdown",
   "id": "71dbc16f-5102-41e7-97eb-b61bf4e39885",
   "metadata": {},
   "source": [
    "Ans. In Python, class methods and static methods are special types of methods defined within a class that differ from regular instance methods in how they are called and what they can access. They are defined using decorators (@classmethod and @staticmethod) and serve distinct purposes.\n",
    "\n",
    "1. 1. Class Methods\n",
    "* Definition: A class method is a method that takes the class itself as its first parameter, typically named cls. It is bound to the class, not an instance.\n",
    "* Decorator: Defined using @classmethod.\n",
    "* Purpose:\n",
    "    * Operate on the class rather than an instance.\n",
    "    * Commonly used for alternative constructors or methods that modify or access class-level data (e.g., class attributes).\n",
    "* Access: Can access and modify class attributes but not instance-specific attributes (unless an instance is passed explicitly).\n",
    "* Calling: Can be called using the class (ClassName.method()) or an instance (instance.method()).\n",
    "\n",
    "2. 2. Static Methods\n",
    "* Definition: A static method is a method that does not take self or cls as a parameter. It behaves like a regular function but is defined inside a class for organizational purposes.\n",
    "* Decorator: Defined using @staticmethod.\n",
    "* Purpose:\n",
    "    * Group utility functions logically within a class when they don’t need access to instance or class data.\n",
    "    * Used for operations that are related to the class but don’t modify or depend on class/instance state.\n",
    "* Access: Cannot directly access class or instance attributes unless explicitly passed as arguments.\n",
    "* Calling: Can be called using the class (ClassName.method()) or an instance (instance.method()).\n",
    "\n"
   ]
  },
  {
   "cell_type": "markdown",
   "id": "62f2d36e-aadb-4095-bddb-8ee0aba37450",
   "metadata": {},
   "source": [
    "Q11. What is method overloading in Python?\n"
   ]
  },
  {
   "cell_type": "markdown",
   "id": "ee4e8fcc-6b45-4b3f-ac6f-3537e8fcde14",
   "metadata": {},
   "source": [
    "Ans. \n",
    "Method overloading refers to the ability to define multiple methods with the same name in a class but with different parameter lists (e.g., different number or types of parameters). This is a common feature in statically-typed languages like Java or C++, where the method to be called is determined at compile time based on the method signature.\n",
    "\n",
    "However, Python does not support method overloading in the traditional sense due to its dynamic typing and flexible function definitions. Instead, Python achieves similar functionality through other mechanisms, such as default arguments, variable-length arguments (*args, **kwargs), or explicit type checking within a single method."
   ]
  },
  {
   "cell_type": "markdown",
   "id": "8ee6db69-8cb3-486f-bbd0-bde404668714",
   "metadata": {},
   "source": [
    "Q12. What is method overriding in OOP?\n"
   ]
  },
  {
   "cell_type": "markdown",
   "id": "67ffa6fd-123c-446f-aa32-f76f6e6e172d",
   "metadata": {},
   "source": [
    "Ans. \n",
    "Method overriding in Object-Oriented Programming (OOP) is a feature that allows a subclass (child class) to provide a specific implementation of a method that is already defined in its superclass (parent class). The overridden method in the subclass must have the same name, parameters, and return type (or compatible type) as the method in the parent class, enabling the subclass to customize or extend the behavior of the inherited method.\n",
    "\n",
    "Key Points:\n",
    "* Purpose: Enables polymorphism, allowing a subclass to modify or replace the behavior of a parent class method to suit its specific needs.\n",
    "* Conditions\n",
    "    * The method in the subclass must have the same name and same signature (same parameters) as the method in the parent class.\n",
    "    * The method in the parent class must be accessible (e.g., not private in languages like Java).\n",
    "    * In dynamically-typed languages like Python, the return type is not strictly enforced, but it should be logically consistent.\n",
    "* Run-time Polymorphism: Method overriding is resolved at runtime, where the actual type of the object (not the reference type) determines which method is called.\n",
    "* Usage:\n",
    "    * Common in inheritance hierarchies to specialize behavior.\n",
    "    * Often used with abstract classes or interfaces where subclasses must provide concrete implementations.\n",
    "* Benefits:\n",
    "    * Enhances flexibility by allowing subclasses to tailor inherited behavior.\n",
    "    * Supports the \"is-a\" relationship (e.g., a Dog is an Animal but has a specific way of barking).\n",
    "    * Promotes code reuse while allowing customization.\n",
    "* Drawbacks:\n",
    "    * Can introduce complexity if not documented clearly.\n",
    "    * Incorrect overriding (e.g., mismatched signatures in strict languages) can lead to errors"
   ]
  },
  {
   "cell_type": "markdown",
   "id": "cfbbd34f-1c4a-4c18-951e-8e7c0c57ee2a",
   "metadata": {},
   "source": [
    "Q13. What is a property decorator in Python?\n"
   ]
  },
  {
   "cell_type": "markdown",
   "id": "e95b74d7-1ce1-4108-ad2a-bd6ead97d131",
   "metadata": {},
   "source": [
    "Ans. A property decorator in Python is a built-in mechanism provided by the @property decorator that allows you to define methods in a class that can be accessed like attributes. It enables getter, setter, and deleter functionality for a class attribute, providing a way to control access to private attributes while maintaining a clean, attribute-like syntax. This is a key tool for implementing encapsulation in Python.\n",
    "\n",
    "Key Points:\n",
    "* Purpose: The @property decorator turns a method into a \"getter\" that can be accessed as if it were an attribute, allowing controlled access to data and computed properties.\n",
    "* Components:\n",
    "    * Getter: A method decorated with @property to retrieve a value.\n",
    "    * Setter: A method decorated with @<property_name>.setter to set a value.\n",
    "    * Deleter: A method decorated with @<property_name>.deleter to delete the attribute.\n",
    "* Benefits:\n",
    "    * Simplifies access to attributes while allowing validation or computation.\n",
    "    * Enforces encapsulation by hiding internal implementation details.\n",
    "    * Maintains a clean interface (e.g., obj.name instead of obj.get_name()).\n",
    "* Syntax: Uses decorators to define getter, setter, and deleter methods for a property."
   ]
  },
  {
   "cell_type": "markdown",
   "id": "120450fe-7ea8-40c3-be7d-85a67b8d528d",
   "metadata": {},
   "source": [
    "Q14. Why is polymorphism important in OOP?\n"
   ]
  },
  {
   "cell_type": "markdown",
   "id": "c2b3df47-e55b-41a8-b1f5-a1a97f1c5bc0",
   "metadata": {},
   "source": [
    "Ans. Polymorphism is a cornerstone of Object-Oriented Programming (OOP) because it enables flexibility, extensibility, and maintainability in software design. It allows different classes to be treated as instances of a common superclass or interface, with each class providing its own specific implementation of shared methods. This ability to handle diverse objects uniformly through a common interface is critical for building scalable and robust systems.\n",
    "\n",
    "Why Polymorphism is Important:\n",
    "1. Promotes Flexibility and Reusability:\n",
    "* Polymorphism allows code to work with objects of different types without needing to know their specific class, as long as they share a common interface or superclass.\n",
    "\n",
    "2. Enables Extensibility:\n",
    "* New classes can be added to a system without modifying existing code, adhering to the Open/Closed Principle (open for extension, closed for modification).\n",
    "* Example: Adding a Triangle class to the above Shape hierarchy requires no changes to the code that processes Shape objects.Enables Extensibility:\n",
    "\n",
    "3. Supports Run-Time Polymorphism:\n",
    "* Through method overriding, polymorphism allows the appropriate method to be called based on the object’s actual type at runtime, enabling dynamic behavior.\n",
    "* Example: A Dog and Cat can both override an Animal class’s speak() method, and calling speak() on an Animal reference will invoke the correct subclass method.\n",
    "\n",
    "4. Simplifies Code and Improves Maintainability:\n",
    "* By using a common interface or superclass, polymorphism reduces the need for type-specific code (e.g., if statements checking object types), making code cleaner and easier to maintain.\n",
    "* Example: Instead of separate functions for each shape type, a single polymorphic draw() method simplifies the design.\n",
    "\n",
    "5. Facilitates Loose Coupling:\n",
    "* Polymorphism allows components to interact through abstract interfaces or superclasses, reducing dependencies between classes.\n",
    "* This makes it easier to swap or modify implementations without affecting other parts of the system.\n",
    "\n",
    "6. Enhances Abstraction:\n",
    "* Polymorphism works hand-in-hand with abstraction, allowing developers to focus on what an object does (e.g., draw()) rather than how it does it (e.g., specific drawing logic for a Circle).\n",
    "* This hides implementation details, improving code clarity and modularity.\n",
    "\n",
    "7. Supports Real-World Modeling:\n",
    "* Polymorphism mirrors real-world scenarios where different entities share common behaviors but implement them differently.\n",
    "* Example: A Vehicle superclass with a start_engine() method can have subclasses like Car, Motorcycle, or ElectricCar, each implementing start_engine() in a way that reflects its unique mechanism.\n",
    "\n",
    "8. Enables Framework and API Design:\n",
    "* Polymorphism is critical in frameworks (e.g., GUI libraries, game engines) where generic interfaces allow developers to plug in custom implementations.\n",
    "* Example: In a GUI framework, a Widget class might define a render() method that buttons, text fields, and other widgets override."
   ]
  },
  {
   "cell_type": "markdown",
   "id": "77b46ebc-cddc-4c60-8167-54a55d33b788",
   "metadata": {},
   "source": [
    "Q15. What is an abstract class in Python?\n"
   ]
  },
  {
   "cell_type": "markdown",
   "id": "2478b677-a1c5-4c44-8233-be7c4b7bfc06",
   "metadata": {},
   "source": [
    "Ans. \n",
    "An abstract class in Python is a class that cannot be instantiated directly and is designed to serve as a blueprint for other classes. It defines a common interface or structure, often including abstract methods (methods without implementation) that must be implemented by its subclasses. Abstract classes are used to enforce a contract for subclasses, ensuring they provide specific functionality, and are a key part of abstraction and polymorphism in Object-Oriented Programming (OOP).\n",
    "\n",
    "Key Points:\n",
    "* Purpose: Abstract classes provide a way to define common behavior and enforce method implementation in subclasses, promoting consistency and modularity.\n",
    "* Module: Python uses the abc module (Abstract Base Classes) to create abstract classes and methods.\n",
    "* Abstract Methods: Methods marked with the @abstractmethod decorator have no implementation in the abstract class and must be overridden in subclasses.\n",
    "* Instantiation: You cannot create objects of an abstract class; attempting to do so raises a TypeError.\n",
    "* Subclasses: Concrete (non-abstract) subclasses must implement all abstract methods to be instantiated.\n",
    "* Regular Methods: Abstract classes can also include regular methods with implementations, which subclasses inherit."
   ]
  },
  {
   "cell_type": "markdown",
   "id": "c16382e7-7a31-4c73-b07d-c76896432bf7",
   "metadata": {},
   "source": [
    "Q16. What are the advantages of OOP?\n"
   ]
  },
  {
   "cell_type": "markdown",
   "id": "99cdaf08-33f6-4b3b-a03a-0e467a576510",
   "metadata": {},
   "source": [
    "Ans. \n",
    "Object-Oriented Programming (OOP) is a programming paradigm that organizes code around objects, combining data (attributes) and behavior (methods). Its advantages make it a powerful approach for building robust, scalable, and maintainable software systems. Below are the key advantages of OOP:\n",
    "\n",
    "1. Modularity\n",
    "* Description: OOP organizes code into self-contained classes and objects, each encapsulating related data and functionality.\n",
    "* Benefits:\n",
    "    * Simplifies development and debugging by isolating functionality within classes.\n",
    "    * Enhances maintainability, as changes to one class typically don’t affect others.\n",
    "    * Example: A Car class encapsulates attributes like speed and methods like drive(), keeping related logic together.\n",
    "\n",
    "2. Reusability\n",
    "* Description: Through inheritance and composition, OOP allows code to be reused across different parts of a program or in new projects.\n",
    "* Benefits:\n",
    "    * Reduces redundancy by sharing common functionality via parent classes or modules.\n",
    "    * Saves development time by leveraging existing, tested code.\n",
    "    * Example: A Vehicle class with a start_engine() method can be inherited by Car and Motorcycle, avoiding duplicate code.\n",
    "\n",
    "3. Scalability and Extensibility\n",
    "* Description: OOP makes it easy to extend systems by adding new classes or modifying existing ones without altering unrelated code.\n",
    "* Benefits:\n",
    "    * Supports the Open/Closed Principle (open for extension, closed for modification).\n",
    "    * Allows new features or types to be integrated seamlessly.\n",
    "    * Example: Adding a Truck class to a Vehicle hierarchy requires only defining the new class, not changing existing code.\n",
    "\n",
    "4. Maintainability\n",
    "* Description: OOP’s structured approach, with encapsulation and clear class boundaries, simplifies code updates and maintenance.\n",
    "* Benefits:\n",
    "    * Localized changes reduce the risk of introducing bugs elsewhere.\n",
    "    * Encapsulation protects internal logic, making modifications safer.\n",
    "    * Example: Updating a calculate_area() method in a Rectangle class doesn’t affect code that uses the class, provided the interface remains unchanged.\n",
    "\n",
    "5. Encapsulation\n",
    "* Description: Encapsulation bundles data and methods within a class, restricting direct access to an object’s internal state (e.g., using private attributes).\n",
    "* Benefits:\n",
    "    * Enhances data security and integrity by controlling access (e.g., via getters/setters).\n",
    "    * Hides implementation details, reducing complexity for users of the class.\n",
    "    * Example: A BankAccount class with a private __balance attribute ensures modifications occur only through validated methods like deposit().\n",
    "\n",
    "6. Polymorphism\n",
    "* Description: Polymorphism allows objects of different classes to be treated uniformly through a common interface or superclass, with each providing its own implementation.\n",
    "* Benefits:\n",
    "    * Simplifies code by enabling generic handling of diverse objects.\n",
    "    * Enhances extensibility, as new classes can be added without modifying existing logic.\n",
    "    * Example: A Shape class with a draw() method can be overridden by Circle and Rectangle, allowing a single function to process all shapes.\n",
    "\n",
    "7. Abstraction\n",
    "* Description: Abstraction hides complex implementation details, exposing only essential features through simple interfaces.\n",
    "* Benefits:\n",
    "    * Reduces complexity by focusing on what an object does, not how it does it.\n",
    "    * Improves usability with clean, high-level APIs.\n",
    "    * Example: A Database class might provide a connect() method, abstracting away underlying network or authentication details.\n",
    "\n",
    "8. Code Organization and Readability\n",
    "* Description: OOP aligns code with real-world concepts, using classes to model entities and their interactions.\n",
    "* Benefits:\n",
    "    * Makes code intuitive and easier to understand by mirroring real-world relationships.\n",
    "    * Facilitates collaboration, as developers can work on separate classes independently.\n",
    "    * Example: A Library system with Book, Member, and Librarian classes organizes functionality logically.\n",
    "\n",
    "9. Real-World Modeling\n",
    "* Description: OOP’s object-based structure naturally maps to real-world entities, where objects have attributes and behaviors.\n",
    "* Benefits:\n",
    "    * Simplifies system design by representing entities like Customer or Order as classes.\n",
    "    * Enhances communication between developers and stakeholders by using familiar concepts.\n",
    "    * Example: A Student class with attributes like name and methods like enroll_course() directly models a student’s properties and actions.\n",
    "\n",
    "10. Facilitates Testing and Debugging\n",
    "* Description: OOP’s modular structure makes it easier to test individual classes or objects in isolation.\n",
    "* Benefits:\n",
    "    * Unit testing is simpler, as classes can be tested independently.\n",
    "    * Bugs are easier to trace due to clear boundaries between components.\n",
    "    * Example: A Calculator class can be tested for its add() method without involving other system components.\n",
    "\n",
    "11. Support for Frameworks and Design Patterns\n",
    "* Description: OOP is the foundation for many design patterns (e.g., Factory, Singleton, Observer) and frameworks (e.g., Django, Spring).\n",
    "* Benefits:\n",
    "    * Enables structured, reusable solutions to common problems.\n",
    "    * Simplifies integration with OOP-based tools and libraries.\n",
    "    * Example: A GUI framework might use polymorphism to allow custom Widget subclasses for buttons or text fields.\n",
    "\n",
    "12. Loose Coupling\n",
    "* Description: OOP encourages loose coupling through interfaces, abstract classes, and polymorphism, reducing dependencies between components.\n",
    "* Benefits:\n",
    "    * Makes systems more flexible and easier to modify or replace parts.\n",
    "    * Improves robustness by isolating changes to specific classes.\n",
    "    * Example: A PaymentProcessor interface allows swapping CreditCardProcessor with PayPalProcessor without affecting the rest of the system."
   ]
  },
  {
   "cell_type": "markdown",
   "id": "03eb0456-7303-47fe-aed4-f8d794d77b51",
   "metadata": {},
   "source": [
    "Q17. What is the difference between a class variable and an instance variable?\n"
   ]
  },
  {
   "cell_type": "markdown",
   "id": "fc9fd6cd-9f5e-48ed-9ce0-7f67a8030496",
   "metadata": {},
   "source": [
    "Ans. In Object-Oriented Programming (OOP) in Python, class variables and instance variables are two types of variables defined within a class, but they differ in their scope, storage, and usage. Understanding their differences is crucial for designing robust and efficient classes.\n",
    "\n",
    "Class Variable\n",
    "* Definition: A variable shared by all instances of a class, defined directly in the class body (outside methods).\n",
    "* Scope: Belongs to the class itself, accessible by all instances and the class.\n",
    "* Storage: Stored once in the class, shared across all instances.\n",
    "* Access: Accessed via the class name (ClassName.var) or any instance (instance.var).\n",
    "* Modification: Modifying a class variable via the class affects all instances (unless an instance overrides it).\n",
    "* Use Case: Used for properties or data common to all instances (e.g., constants, shared counters).\n",
    "* Declaration: Defined in the class body, typically before any methods.\n",
    "\n",
    "Instance Variable\n",
    "* Definition: A variable unique to each instance of a class, typically defined in the __init__ method.\n",
    "* Scope: Belongs to a specific instance of the class, unique to that object.\n",
    "* Storage: Stored separately for each instance of the class.\n",
    "* Access: Accessed only through the specific instance (instance.var).\n",
    "* Modification: Modifying an instance variable affects only that instance.\n",
    "* Use Case: Used for properties unique to each instance (e.g., name, age of a person).\n",
    "* Declaration: Defined in methods, usually __init__, using self."
   ]
  },
  {
   "cell_type": "markdown",
   "id": "51187fa6-3f41-4d8e-b7fe-4f690349b8ce",
   "metadata": {},
   "source": [
    "Q18. What is multiple inheritance in Python?\n"
   ]
  },
  {
   "cell_type": "markdown",
   "id": "2d52f1d3-7806-43e1-8447-21ea9a70ecb2",
   "metadata": {},
   "source": [
    "Ans. \n",
    "Multiple inheritance in Python is a feature of Object-Oriented Programming (OOP) that allows a class to inherit attributes and methods from more than one parent class. This enables a child class to combine the functionality of multiple parent classes, promoting code reuse and flexibility. However, it also introduces complexity, such as potential conflicts in method resolution, which Python handles using the Method Resolution Order (MRO).\n"
   ]
  },
  {
   "cell_type": "markdown",
   "id": "ae4b1fb5-1b59-4299-9358-261fa97ab676",
   "metadata": {},
   "source": [
    "Q19. Explain the purpose of ‘’__str__’ and ‘__repr__’ ‘ methods in Python?\n"
   ]
  },
  {
   "cell_type": "markdown",
   "id": "72b5df81-1db6-4e1a-b328-7fd56a235edd",
   "metadata": {},
   "source": [
    "Ans. In Python, the __str__ and __repr__ dunder (double underscore) methods are special methods used to define string representations of objects. They serve distinct purposes and are called in different contexts to provide human-readable or developer-oriented descriptions of an object. Both are integral to improving the usability and debuggability of custom classes.\n",
    "\n",
    "The __str__ Method:\n",
    "* Purpose: Returns a string that is a user-friendly, readable representation of the object, often omitting technical details.\n",
    "* Context: Used in situations where the object is displayed to end-users, such as in print() statements or when str(obj) is called.\n",
    "* Default: If __str__ is not defined, Python falls back to __repr__. If neither is defined, it uses the default object representation.\n",
    "\n",
    "The __repr__ Method:\n",
    "* Purpose: Returns a string that is a detailed, unambiguous representation of the object, ideally one that could be used to recreate the object or inspect its state.\n",
    "* Context: Used in debugging, logging, or when the object is inspected in the Python interpreter (e.g., typing obj in a REPL). Called by repr(obj) or when __str__ is absent.\n",
    "* Default: Provides a basic string with the class name and memory address if not overridden."
   ]
  },
  {
   "cell_type": "markdown",
   "id": "888aa667-dda8-4787-b116-a92799456bfa",
   "metadata": {},
   "source": [
    "Q20. What is the significance of the ‘super()’ function in Python?\n"
   ]
  },
  {
   "cell_type": "markdown",
   "id": "302bf664-a536-401a-bca2-61c6ca6f1d37",
   "metadata": {},
   "source": [
    "Ans.\n",
    "The super() function in Python is a built-in function used in Object-Oriented Programming (OOP) to call methods or access attributes from a parent (superclass) in a class hierarchy. It is primarily used in the context of inheritance to invoke the parent class’s methods, such as __init__ for initialization, or other overridden methods, allowing a subclass to extend or customize the parent’s behavior without duplicating code. The super() function is critical for maintaining proper inheritance chains, especially in single and multiple inheritance scenarios.\n",
    " "
   ]
  },
  {
   "cell_type": "markdown",
   "id": "4174583e-21bf-47ec-9f38-3144164ce625",
   "metadata": {},
   "source": [
    "Q21. What is the significance of the __del__ method in Python?\n"
   ]
  },
  {
   "cell_type": "markdown",
   "id": "6ab9a50d-add0-4671-bddc-1a27b8790f75",
   "metadata": {},
   "source": [
    "Ans. The __del__ method in Python is a special dunder (double underscore) method that serves as a destructor for a class. It is called when an object is about to be destroyed, typically when its reference count drops to zero and it is being garbage-collected. The __del__ method allows developers to define custom cleanup or finalization logic for an object, such as releasing resources (e.g., closing files, network connections, or freeing memory).\n",
    "\n",
    "However, its use is nuanced, and it comes with caveats, making it less commonly used compared to other cleanup mechanisms like context managers (with statements). Below is a detailed explanation of its significance, behavior, and best practices."
   ]
  },
  {
   "cell_type": "markdown",
   "id": "6d42ae98-1aae-49da-84c0-d82407711f39",
   "metadata": {},
   "source": [
    "Q22. What is the difference between @staticmethod and @classmethod in Python?\n"
   ]
  },
  {
   "cell_type": "markdown",
   "id": "beb9513e-a0a1-4d6b-b7f0-982c01587237",
   "metadata": {},
   "source": [
    "Ans. @staticmethod:\n",
    "* Definition: A method decorated with @staticmethod is not bound to the instance or class and does not receive an implicit first parameter (self or cls). It behaves like a regular function but is defined within the class for organizational purposes.\n",
    "* Purpose: Used for utility functions that logically belong to the class but do not need to access or modify class or instance state.\n",
    "* Access: Cannot directly access class or instance attributes unless they are passed as arguments or accessed via the class name.\n",
    "\n",
    "@classmethod:\n",
    "* Definition: A method decorated with @classmethod takes the class itself as its first parameter (conventionally named cls). It is bound to the class and can access or modify class-level data.\n",
    "* Purpose: Used for operations that involve the class, such as accessing/modifying class attributes or creating alternative constructors (factory methods).\n",
    "* Access: Can access and modify class attributes (shared across all instances) and call other class methods, but not instance-specific attributes unless an instance is passed."
   ]
  },
  {
   "cell_type": "markdown",
   "id": "2bd5cc35-d092-45ce-a8a4-16f24ef278dd",
   "metadata": {},
   "source": [
    "Q23. How does polymorphism work in Python with inheritance?\n"
   ]
  },
  {
   "cell_type": "markdown",
   "id": "fb622f25-c03b-4fa2-a86a-076b5a1d0adb",
   "metadata": {},
   "source": [
    "Ans. How Polymorphism Works with Inheritance in Python:\n",
    "\n",
    "1. Inheritance Sets the Foundation:\n",
    "* A parent class (superclass) defines a method that serves as a common interface.\n",
    "* Subclasses inherit from the parent class and can override the method to provide their own implementation.\n",
    "* Objects of the subclasses can be treated as instances of the parent class, enabling polymorphic behavior.\n",
    "\n",
    "2. Method Overriding:\n",
    "* Subclasses redefine (override) the parent class’s method with the same name and compatible signature (parameters).\n",
    "* When the method is called on an object, Python determines the object’s actual type at runtime and invokes the appropriate overridden method (dynamic dispatch).\n",
    "\n",
    "3. Run-Time Polymorphism:\n",
    "* Polymorphism in Python is dynamic, meaning the method to be executed is determined at runtime based on the object’s type, not the reference type.\n",
    "* This allows a single method call to behave differently depending on the object it’s called on.\n",
    "\n",
    "4. Common Interface:\n",
    "* The parent class provides a unified interface (e.g., a method like speak()), and subclasses implement it differently.\n",
    "* Code that uses the parent class type can work with any subclass without needing to know the specific subclass."
   ]
  },
  {
   "cell_type": "markdown",
   "id": "c5099c1c-4b72-436e-8169-26f6125636d1",
   "metadata": {},
   "source": [
    "Q24. What is method chaining in Python OOP?\n"
   ]
  },
  {
   "cell_type": "markdown",
   "id": "b627bb92-cc34-49bc-a8e8-537ce43d29d7",
   "metadata": {},
   "source": [
    "\n",
    "Ans. Method chaining in Python Object-Oriented Programming (OOP) is a design pattern where multiple method calls are chained together in a single statement, with each method returning the object itself (typically self). This allows for a fluent and concise syntax, enabling a sequence of operations to be performed on an object without needing to repeatedly reference the object or store intermediate results."
   ]
  },
  {
   "cell_type": "markdown",
   "id": "5d80fbee-9257-4915-8497-5d9f42a57855",
   "metadata": {},
   "source": [
    "Q25. What is the purpose of the __call__ method in Python?"
   ]
  },
  {
   "cell_type": "markdown",
   "id": "ee6b25f6-0fce-4643-9add-16c3590e567e",
   "metadata": {},
   "source": [
    "Ans. The __call__ method in Python is a special dunder (double underscore) method that allows an instance of a class to be called as if it were a function. When defined in a class, __call__ enables objects of that class to be invoked using parentheses (()), passing arguments just like a regular function. This makes objects callable, providing a powerful way to create flexible and expressive APIs in Object-Oriented Programming (OOP)."
   ]
  },
  {
   "cell_type": "markdown",
   "id": "b5b2a116-83aa-4718-ad21-d64c222616b4",
   "metadata": {},
   "source": [
    "## Practical Questions: "
   ]
  },
  {
   "cell_type": "markdown",
   "id": "46d8ce64-d257-475a-8ea5-f239466402bb",
   "metadata": {},
   "source": [
    "Q1. Create a parent class Animal with a method speak() that prints a generic message. Create a child class Dog\n",
    "that overrides the speak() method to print \"Bark!\". "
   ]
  },
  {
   "cell_type": "code",
   "execution_count": 2,
   "id": "7f4c3bcf-18ff-45f0-81d2-a980a0dc4aeb",
   "metadata": {},
   "outputs": [
    {
     "name": "stdout",
     "output_type": "stream",
     "text": [
      "This animal makes a sound.\n",
      "Bark!\n"
     ]
    }
   ],
   "source": [
    "# Parent class\n",
    "class Animal:\n",
    "    def speak(self):\n",
    "        print(\"This animal makes a sound.\")\n",
    "\n",
    "# Child class\n",
    "class Dog(Animal):\n",
    "    def speak(self):\n",
    "        print(\"Bark!\")\n",
    "\n",
    "# Example usage\n",
    "a = Animal()\n",
    "a.speak()  # Output: This animal makes a sound.\n",
    "\n",
    "d = Dog()\n",
    "d.speak()  # Output: Bark!\n"
   ]
  },
  {
   "cell_type": "markdown",
   "id": "0fdfabb3-5577-4c29-b976-5541e28d09e0",
   "metadata": {},
   "source": [
    "Q2.  Write a program to create an abstract class Shape with a method area(). Derive classes Circle and Rectangle\n",
    "from it and implement the area() method in both."
   ]
  },
  {
   "cell_type": "code",
   "execution_count": 3,
   "id": "95c08732-9139-4d89-80a0-047177f282e9",
   "metadata": {},
   "outputs": [
    {
     "name": "stdout",
     "output_type": "stream",
     "text": [
      "Area of circle: 78.53981633974483\n",
      "Area of rectangle: 24\n"
     ]
    }
   ],
   "source": [
    "from abc import ABC, abstractmethod\n",
    "import math\n",
    "\n",
    "# Abstract class\n",
    "class Shape(ABC):\n",
    "    @abstractmethod\n",
    "    def area(self):\n",
    "        pass\n",
    "\n",
    "# Derived class: Circle\n",
    "class Circle(Shape):\n",
    "    def __init__(self, radius):\n",
    "        self.radius = radius\n",
    "\n",
    "    def area(self):\n",
    "        return math.pi * self.radius ** 2\n",
    "\n",
    "# Derived class: Rectangle\n",
    "class Rectangle(Shape):\n",
    "    def __init__(self, length, width):\n",
    "        self.length = length\n",
    "        self.width = width\n",
    "\n",
    "    def area(self):\n",
    "        return self.length * self.width\n",
    "\n",
    "# Example usage\n",
    "c = Circle(5)\n",
    "print(\"Area of circle:\", c.area())\n",
    "\n",
    "r = Rectangle(4, 6)\n",
    "print(\"Area of rectangle:\", r.area())\n"
   ]
  },
  {
   "cell_type": "markdown",
   "id": "994b084c-4823-4a85-959f-5415d2396994",
   "metadata": {},
   "source": [
    "Q3.  Implement a multi-level inheritance scenario where a class Vehicle has an attribute type. Derive a class Car\n",
    "and further derive a class ElectricCar that adds a battery attribute."
   ]
  },
  {
   "cell_type": "code",
   "execution_count": 4,
   "id": "3dc26772-b884-490e-a8b2-fcf778a815d4",
   "metadata": {},
   "outputs": [
    {
     "name": "stdout",
     "output_type": "stream",
     "text": [
      "Type: Electric\n",
      "Brand: Tesla\n",
      "Battery: 75 kWh\n"
     ]
    }
   ],
   "source": [
    "# Base class\n",
    "class Vehicle:\n",
    "    def __init__(self, vehicle_type):\n",
    "        self.type = vehicle_type\n",
    "\n",
    "# First derived class\n",
    "class Car(Vehicle):\n",
    "    def __init__(self, vehicle_type, brand):\n",
    "        super().__init__(vehicle_type)\n",
    "        self.brand = brand\n",
    "\n",
    "# Second derived class (multi-level)\n",
    "class ElectricCar(Car):\n",
    "    def __init__(self, vehicle_type, brand, battery_capacity):\n",
    "        super().__init__(vehicle_type, brand)\n",
    "        self.battery = battery_capacity\n",
    "\n",
    "    def display_info(self):\n",
    "        print(f\"Type: {self.type}\")\n",
    "        print(f\"Brand: {self.brand}\")\n",
    "        print(f\"Battery: {self.battery} kWh\")\n",
    "\n",
    "# Example usage\n",
    "e_car = ElectricCar(\"Electric\", \"Tesla\", 75)\n",
    "e_car.display_info()\n"
   ]
  },
  {
   "cell_type": "markdown",
   "id": "73dfe96f-df2f-4004-aaad-71d49daf5a1a",
   "metadata": {},
   "source": [
    "Q4.  Demonstrate polymorphism by creating a base class Bird with a method fly(). Create two derived classes\n",
    "Sparrow and Penguin that override the fly() method."
   ]
  },
  {
   "cell_type": "code",
   "execution_count": 5,
   "id": "49397e7d-65b1-4706-b4ce-c732d3f66fa7",
   "metadata": {},
   "outputs": [
    {
     "name": "stdout",
     "output_type": "stream",
     "text": [
      "Sparrow flies high in the sky.\n",
      "Penguins cannot fly, they swim.\n"
     ]
    }
   ],
   "source": [
    "# Base class\n",
    "class Bird:\n",
    "    def fly(self):\n",
    "        print(\"This bird can fly in its own way.\")\n",
    "\n",
    "# Derived class 1\n",
    "class Sparrow(Bird):\n",
    "    def fly(self):\n",
    "        print(\"Sparrow flies high in the sky.\")\n",
    "\n",
    "# Derived class 2\n",
    "class Penguin(Bird):\n",
    "    def fly(self):\n",
    "        print(\"Penguins cannot fly, they swim.\")\n",
    "\n",
    "# Polymorphism in action\n",
    "def show_flight(bird):\n",
    "    bird.fly()\n",
    "\n",
    "# Create objects\n",
    "bird1 = Sparrow()\n",
    "bird2 = Penguin()\n",
    "\n",
    "# Call fly() polymorphically\n",
    "show_flight(bird1)  # Output: Sparrow flies high in the sky.\n",
    "show_flight(bird2)  # Output: Penguins cannot fly, they swim.\n"
   ]
  },
  {
   "cell_type": "markdown",
   "id": "bd6a56a6-c1a9-4ed4-af55-d5981311c35a",
   "metadata": {},
   "source": [
    "Q5.  Write a program to demonstrate encapsulation by creating a class BankAccount with private attributes\n",
    "balance and methods to deposit, withdraw, and check balance."
   ]
  },
  {
   "cell_type": "code",
   "execution_count": 6,
   "id": "1d229c0a-897a-4f37-a519-9e56cc3e7a93",
   "metadata": {},
   "outputs": [
    {
     "name": "stdout",
     "output_type": "stream",
     "text": [
      "Deposited: $50\n",
      "Withdrawn: $30\n",
      "Current balance: $120\n"
     ]
    }
   ],
   "source": [
    "class BankAccount:\n",
    "    def __init__(self, initial_balance=0):\n",
    "        self.__balance = initial_balance  # private attribute\n",
    "\n",
    "    # Method to deposit money\n",
    "    def deposit(self, amount):\n",
    "        if amount > 0:\n",
    "            self.__balance += amount\n",
    "            print(f\"Deposited: ${amount}\")\n",
    "        else:\n",
    "            print(\"Invalid deposit amount.\")\n",
    "\n",
    "    # Method to withdraw money\n",
    "    def withdraw(self, amount):\n",
    "        if 0 < amount <= self.__balance:\n",
    "            self.__balance -= amount\n",
    "            print(f\"Withdrawn: ${amount}\")\n",
    "        else:\n",
    "            print(\"Insufficient balance or invalid amount.\")\n",
    "\n",
    "    # Method to check balance\n",
    "    def get_balance(self):\n",
    "        print(f\"Current balance: ${self.__balance}\")\n",
    "\n",
    "# Example usage\n",
    "account = BankAccount(100)\n",
    "account.deposit(50)      # Deposited: $50\n",
    "account.withdraw(30)     # Withdrawn: $30\n",
    "account.get_balance()    # Current balance: $120\n",
    "\n",
    "# Trying to access private attribute (will cause an error)\n",
    "# print(account.__balance)  # Uncommenting this line will raise AttributeError\n"
   ]
  },
  {
   "cell_type": "markdown",
   "id": "982e9d1d-fa79-4eac-b418-ebebec882f80",
   "metadata": {},
   "source": [
    "Q6. Demonstrate runtime polymorphism using a method play() in a base class Instrument. Derive classes Guitar\n",
    "and Piano that implement their own version of play()."
   ]
  },
  {
   "cell_type": "code",
   "execution_count": 8,
   "id": "23225a49-4add-40e6-9f9c-cd961e2a1de2",
   "metadata": {},
   "outputs": [
    {
     "name": "stdout",
     "output_type": "stream",
     "text": [
      "Strumming the guitar.\n",
      "Playing the piano.\n"
     ]
    }
   ],
   "source": [
    "# Base class\n",
    "class Instrument:\n",
    "    def play(self):\n",
    "        print(\"Playing an instrument.\")\n",
    "\n",
    "# Derived class 1\n",
    "class Guitar(Instrument):\n",
    "    def play(self):\n",
    "        print(\"Strumming the guitar.\")\n",
    "\n",
    "# Derived class 2\n",
    "class Piano(Instrument):\n",
    "    def play(self):\n",
    "        print(\"Playing the piano.\")\n",
    "\n",
    "# Function to demonstrate runtime polymorphism\n",
    "def perform(instrument):\n",
    "    instrument.play()\n",
    "\n",
    "# Example usage\n",
    "i1 = Guitar()\n",
    "i2 = Piano()\n",
    "\n",
    "perform(i1)  # Output: Strumming the guitar.\n",
    "perform(i2)  # Output: Playing the piano.\n"
   ]
  },
  {
   "cell_type": "markdown",
   "id": "ff1a0b40-a24c-4377-9118-fba419040b4e",
   "metadata": {},
   "source": [
    "Q7.  Create a class MathOperations with a class method add_numbers() to add two numbers and a static\n",
    "method subtract_numbers() to subtract two numbers."
   ]
  },
  {
   "cell_type": "code",
   "execution_count": 9,
   "id": "d7c2c7b9-99a7-4d5d-a03f-c255e2be3965",
   "metadata": {},
   "outputs": [
    {
     "name": "stdout",
     "output_type": "stream",
     "text": [
      "Sum: 15\n",
      "Difference: 5\n"
     ]
    }
   ],
   "source": [
    "class MathOperations:\n",
    "    @classmethod\n",
    "    def add_numbers(cls, a, b):\n",
    "        return a + b\n",
    "\n",
    "    @staticmethod\n",
    "    def subtract_numbers(a, b):\n",
    "        return a - b\n",
    "\n",
    "# Example usage\n",
    "sum_result = MathOperations.add_numbers(10, 5)\n",
    "print(\"Sum:\", sum_result)  # Output: Sum: 15\n",
    "\n",
    "diff_result = MathOperations.subtract_numbers(10, 5)\n",
    "print(\"Difference:\", diff_result)  # Output: Difference: 5\n"
   ]
  },
  {
   "cell_type": "markdown",
   "id": "34e255e0-ba36-49b3-98e2-4fb35d11bbb1",
   "metadata": {},
   "source": [
    "Q8. Implement a class Person with a class method to count the total number of persons created."
   ]
  },
  {
   "cell_type": "code",
   "execution_count": 10,
   "id": "7de3adfb-e281-48b3-ba20-ee3dff8bb4de",
   "metadata": {},
   "outputs": [
    {
     "name": "stdout",
     "output_type": "stream",
     "text": [
      "Total persons created: 3\n"
     ]
    }
   ],
   "source": [
    "class Person:\n",
    "    count = 0  # Class variable to track the number of persons\n",
    "\n",
    "    def __init__(self, name):\n",
    "        self.name = name\n",
    "        Person.count += 1  # Increment count when a new person is created\n",
    "\n",
    "    @classmethod\n",
    "    def total_persons(cls):\n",
    "        return cls.count\n",
    "\n",
    "# Example usage\n",
    "p1 = Person(\"Alice\")\n",
    "p2 = Person(\"Bob\")\n",
    "p3 = Person(\"Charlie\")\n",
    "\n",
    "print(\"Total persons created:\", Person.total_persons())  # Output: Total persons created: 3\n"
   ]
  },
  {
   "cell_type": "markdown",
   "id": "059bc957-2925-4aa1-8895-b573122e15da",
   "metadata": {},
   "source": [
    "Q9.  Write a class Fraction with attributes numerator and denominator. Override the str method to display the\n",
    "fraction as \"numerator/denominator\"."
   ]
  },
  {
   "cell_type": "code",
   "execution_count": 11,
   "id": "cad76216-dba0-4a10-b798-d918acd8e065",
   "metadata": {},
   "outputs": [
    {
     "name": "stdout",
     "output_type": "stream",
     "text": [
      "3/4\n",
      "7/2\n"
     ]
    }
   ],
   "source": [
    "class Fraction:\n",
    "    def __init__(self, numerator, denominator):\n",
    "        self.numerator = numerator\n",
    "        self.denominator = denominator\n",
    "\n",
    "    def __str__(self):\n",
    "        return f\"{self.numerator}/{self.denominator}\"\n",
    "\n",
    "# Example usage\n",
    "f1 = Fraction(3, 4)\n",
    "f2 = Fraction(7, 2)\n",
    "\n",
    "print(f1)  # Output: 3/4\n",
    "print(f2)  # Output: 7/2\n"
   ]
  },
  {
   "cell_type": "markdown",
   "id": "18fb5a5b-3df7-482e-a3cc-91006b642af0",
   "metadata": {},
   "source": [
    "Q10. Demonstrate operator overloading by creating a class Vector and overriding the add method to add two\n",
    "vectors."
   ]
  },
  {
   "cell_type": "code",
   "execution_count": 12,
   "id": "fcaea98b-1d87-4a1b-93d7-91707b56a324",
   "metadata": {},
   "outputs": [
    {
     "name": "stdout",
     "output_type": "stream",
     "text": [
      "Vector(2, 3)\n",
      "Vector(4, 1)\n",
      "Vector(6, 4)\n"
     ]
    }
   ],
   "source": [
    "class Vector:\n",
    "    def __init__(self, x, y):\n",
    "        self.x = x\n",
    "        self.y = y\n",
    "\n",
    "    # Overloading the + operator\n",
    "    def __add__(self, other):\n",
    "        return Vector(self.x + other.x, self.y + other.y)\n",
    "\n",
    "    def __str__(self):\n",
    "        return f\"Vector({self.x}, {self.y})\"\n",
    "\n",
    "# Example usage\n",
    "v1 = Vector(2, 3)\n",
    "v2 = Vector(4, 1)\n",
    "v3 = v1 + v2  # This uses the overloaded __add__ method\n",
    "\n",
    "print(v1)  # Output: Vector(2, 3)\n",
    "print(v2)  # Output: Vector(4, 1)\n",
    "print(v3)  # Output: Vector(6, 4)\n"
   ]
  },
  {
   "cell_type": "markdown",
   "id": "db00bb23-ebc2-4d19-8766-3762532f6df2",
   "metadata": {},
   "source": [
    "Q11. Create a class Person with attributes name and age. Add a method greet() that prints \"Hello, my name is\n",
    "{name} and I am {age} years old.\""
   ]
  },
  {
   "cell_type": "code",
   "execution_count": 13,
   "id": "ea8b83ad-b9ee-4edc-bd69-d5b9156a465f",
   "metadata": {},
   "outputs": [
    {
     "name": "stdout",
     "output_type": "stream",
     "text": [
      "Hello, my name is Alice and I am 30 years old.\n",
      "Hello, my name is Bob and I am 25 years old.\n"
     ]
    }
   ],
   "source": [
    "class Person:\n",
    "    def __init__(self, name, age):\n",
    "        self.name = name\n",
    "        self.age = age\n",
    "\n",
    "    def greet(self):\n",
    "        print(f\"Hello, my name is {self.name} and I am {self.age} years old.\")\n",
    "\n",
    "# Example usage\n",
    "p1 = Person(\"Alice\", 30)\n",
    "p2 = Person(\"Bob\", 25)\n",
    "\n",
    "p1.greet()  # Output: Hello, my name is Alice and I am 30 years old.\n",
    "p2.greet()  # Output: Hello, my name is Bob and I am 25 years old.\n"
   ]
  },
  {
   "cell_type": "markdown",
   "id": "e22004dd-8d51-4ba2-9431-a26afe0d07ce",
   "metadata": {},
   "source": [
    "Q12.  Implement a class Student with attributes name and grades. Create a method average_grade() to compute\n",
    "the average of the grades."
   ]
  },
  {
   "cell_type": "code",
   "execution_count": 14,
   "id": "62671de7-e692-4c15-93d2-70eb9ac5c6cf",
   "metadata": {},
   "outputs": [
    {
     "name": "stdout",
     "output_type": "stream",
     "text": [
      "Alice's average grade: 88.75\n",
      "Bob's average grade: 79.5\n"
     ]
    }
   ],
   "source": [
    "class Student:\n",
    "    def __init__(self, name, grades):\n",
    "        self.name = name\n",
    "        self.grades = grades\n",
    "\n",
    "    def average_grade(self):\n",
    "        return sum(self.grades) / len(self.grades) if self.grades else 0\n",
    "\n",
    "# Example usage\n",
    "s1 = Student(\"Alice\", [85, 90, 88, 92])\n",
    "s2 = Student(\"Bob\", [75, 80, 78, 85])\n",
    "\n",
    "print(f\"{s1.name}'s average grade: {s1.average_grade()}\")  # Output: Alice's average grade: 88.75\n",
    "print(f\"{s2.name}'s average grade: {s2.average_grade()}\")  # Output: Bob's average grade: 79.5\n"
   ]
  },
  {
   "cell_type": "markdown",
   "id": "61b4f25d-7178-4adc-817a-0541561f1fb7",
   "metadata": {},
   "source": [
    "Q13. Create a class Rectangle with methods set_dimensions() to set the dimensions and area() to calculate the\n",
    "area."
   ]
  },
  {
   "cell_type": "code",
   "execution_count": 15,
   "id": "adcb6838-ae14-4ebf-93b1-d49d00c8f02a",
   "metadata": {},
   "outputs": [
    {
     "name": "stdout",
     "output_type": "stream",
     "text": [
      "Area of rectangle: 15\n",
      "Area of rectangle: 28\n"
     ]
    }
   ],
   "source": [
    "class Rectangle:\n",
    "    def __init__(self):\n",
    "        self.length = 0\n",
    "        self.width = 0\n",
    "\n",
    "    def set_dimensions(self, length, width):\n",
    "        self.length = length\n",
    "        self.width = width\n",
    "\n",
    "    def area(self):\n",
    "        return self.length * self.width\n",
    "\n",
    "# Example usage\n",
    "r1 = Rectangle()\n",
    "r1.set_dimensions(5, 3)\n",
    "print(f\"Area of rectangle: {r1.area()}\")  # Output: Area of rectangle: 15\n",
    "\n",
    "r2 = Rectangle()\n",
    "r2.set_dimensions(7, 4)\n",
    "print(f\"Area of rectangle: {r2.area()}\")  # Output: Area of rectangle: 28\n"
   ]
  },
  {
   "cell_type": "markdown",
   "id": "40b9f0da-0755-472f-819a-ff46bdd22a72",
   "metadata": {},
   "source": [
    "Q14.  Create a class Employee with a method calculate_salary() that computes the salary based on hours worked\n",
    "and hourly rate. Create a derived class Manager that adds a bonus to the salary."
   ]
  },
  {
   "cell_type": "code",
   "execution_count": 16,
   "id": "fda6f489-d643-449b-9ac7-dba4edee3677",
   "metadata": {},
   "outputs": [
    {
     "name": "stdout",
     "output_type": "stream",
     "text": [
      "Alice's salary: $800\n",
      "Bob's salary: $1625\n"
     ]
    }
   ],
   "source": [
    "# Base class\n",
    "class Employee:\n",
    "    def __init__(self, name, hours_worked, hourly_rate):\n",
    "        self.name = name\n",
    "        self.hours_worked = hours_worked\n",
    "        self.hourly_rate = hourly_rate\n",
    "\n",
    "    def calculate_salary(self):\n",
    "        return self.hours_worked * self.hourly_rate\n",
    "\n",
    "# Derived class\n",
    "class Manager(Employee):\n",
    "    def __init__(self, name, hours_worked, hourly_rate, bonus):\n",
    "        super().__init__(name, hours_worked, hourly_rate)\n",
    "        self.bonus = bonus\n",
    "\n",
    "    def calculate_salary(self):\n",
    "        base_salary = super().calculate_salary()\n",
    "        return base_salary + self.bonus\n",
    "\n",
    "# Example usage\n",
    "e1 = Employee(\"Alice\", 40, 20)  # 40 hours at $20/hour\n",
    "e2 = Manager(\"Bob\", 45, 25, 500)  # 45 hours at $25/hour + $500 bonus\n",
    "\n",
    "print(f\"{e1.name}'s salary: ${e1.calculate_salary()}\")  # Output: Alice's salary: $800\n",
    "print(f\"{e2.name}'s salary: ${e2.calculate_salary()}\")  # Output: Bob's salary: $1375\n"
   ]
  },
  {
   "cell_type": "markdown",
   "id": "7ace51a9-1f02-4ec9-a992-3ff66968f782",
   "metadata": {},
   "source": [
    "Q15.Create a class Product with attributes name, price, and quantity. Implement a method total_price() that\n",
    "calculates the total price of the product."
   ]
  },
  {
   "cell_type": "code",
   "execution_count": 17,
   "id": "daf4d01b-39ef-4236-bce6-2728f3ecbea7",
   "metadata": {},
   "outputs": [
    {
     "name": "stdout",
     "output_type": "stream",
     "text": [
      "Total price of Laptop: $3000\n",
      "Total price of Smartphone: $3000\n"
     ]
    }
   ],
   "source": [
    "class Product:\n",
    "    def __init__(self, name, price, quantity):\n",
    "        self.name = name\n",
    "        self.price = price\n",
    "        self.quantity = quantity\n",
    "\n",
    "    def total_price(self):\n",
    "        return self.price * self.quantity\n",
    "\n",
    "# Example usage\n",
    "p1 = Product(\"Laptop\", 1000, 3)\n",
    "p2 = Product(\"Smartphone\", 600, 5)\n",
    "\n",
    "print(f\"Total price of {p1.name}: ${p1.total_price()}\")  # Output: Total price of Laptop: $3000\n",
    "print(f\"Total price of {p2.name}: ${p2.total_price()}\")  # Output: Total price of Smartphone: $3000\n"
   ]
  },
  {
   "cell_type": "markdown",
   "id": "acbee188-62dc-434f-bcce-474dcb0a990d",
   "metadata": {},
   "source": [
    "Q16. Create a class Animal with an abstract method sound(). Create two derived classes Cow and Sheep that\n",
    "implement the sound() method."
   ]
  },
  {
   "cell_type": "code",
   "execution_count": 18,
   "id": "e09128f8-f9ae-4dea-94c3-3257fd30cfed",
   "metadata": {},
   "outputs": [
    {
     "name": "stdout",
     "output_type": "stream",
     "text": [
      "Cow makes sound: Moo!\n",
      "Sheep makes sound: Baa!\n"
     ]
    }
   ],
   "source": [
    "from abc import ABC, abstractmethod\n",
    "\n",
    "# Abstract class\n",
    "class Animal(ABC):\n",
    "    @abstractmethod\n",
    "    def sound(self):\n",
    "        pass\n",
    "\n",
    "# Derived class Cow\n",
    "class Cow(Animal):\n",
    "    def sound(self):\n",
    "        return \"Moo!\"\n",
    "\n",
    "# Derived class Sheep\n",
    "class Sheep(Animal):\n",
    "    def sound(self):\n",
    "        return \"Baa!\"\n",
    "\n",
    "# Example usage\n",
    "cow = Cow()\n",
    "sheep = Sheep()\n",
    "\n",
    "print(f\"Cow makes sound: {cow.sound()}\")  # Output: Cow makes sound: Moo!\n",
    "print(f\"Sheep makes sound: {sheep.sound()}\")  # Output: Sheep makes sound: Baa!\n"
   ]
  },
  {
   "cell_type": "markdown",
   "id": "2f0ed311-a3e4-4172-834c-2d2b1889e082",
   "metadata": {},
   "source": [
    "Q17.Create a class Book with attributes title, author, and year_published. Add a method get_book_info() that\n",
    "returns a formatted string with the book's details."
   ]
  },
  {
   "cell_type": "code",
   "execution_count": 19,
   "id": "cc08619f-0765-4e7b-a97f-f58855fc4e5c",
   "metadata": {},
   "outputs": [
    {
     "name": "stdout",
     "output_type": "stream",
     "text": [
      "'1984' by George Orwell, published in 1949.\n",
      "'To Kill a Mockingbird' by Harper Lee, published in 1960.\n"
     ]
    }
   ],
   "source": [
    "class Book:\n",
    "    def __init__(self, title, author, year_published):\n",
    "        self.title = title\n",
    "        self.author = author\n",
    "        self.year_published = year_published\n",
    "\n",
    "    def get_book_info(self):\n",
    "        return f\"'{self.title}' by {self.author}, published in {self.year_published}.\"\n",
    "\n",
    "# Example usage\n",
    "book1 = Book(\"1984\", \"George Orwell\", 1949)\n",
    "book2 = Book(\"To Kill a Mockingbird\", \"Harper Lee\", 1960)\n",
    "\n",
    "print(book1.get_book_info())  # Output: '1984' by George Orwell, published in 1949.\n",
    "print(book2.get_book_info())  # Output: 'To Kill a Mockingbird' by Harper Lee, published in 1960.\n"
   ]
  },
  {
   "cell_type": "markdown",
   "id": "5294f24e-48b9-46fe-87dd-46b6f55493ce",
   "metadata": {},
   "source": [
    "Q18. Create a class House with attributes address and price. Create a derived class Mansion that adds an\n",
    "attribute number_of_rooms."
   ]
  },
  {
   "cell_type": "code",
   "execution_count": 20,
   "id": "08459868-64d8-43b7-813b-13b392c76a71",
   "metadata": {},
   "outputs": [
    {
     "name": "stdout",
     "output_type": "stream",
     "text": [
      "Address: 123 Main St, Price: $250000\n",
      "Address: 456 Luxury Ave, Price: $5000000, Rooms: 10\n"
     ]
    }
   ],
   "source": [
    "# Base class\n",
    "class House:\n",
    "    def __init__(self, address, price):\n",
    "        self.address = address\n",
    "        self.price = price\n",
    "\n",
    "    def get_details(self):\n",
    "        return f\"Address: {self.address}, Price: ${self.price}\"\n",
    "\n",
    "# Derived class\n",
    "class Mansion(House):\n",
    "    def __init__(self, address, price, number_of_rooms):\n",
    "        super().__init__(address, price)\n",
    "        self.number_of_rooms = number_of_rooms\n",
    "\n",
    "    def get_details(self):\n",
    "        return f\"Address: {self.address}, Price: ${self.price}, Rooms: {self.number_of_rooms}\"\n",
    "\n",
    "# Example usage\n",
    "house1 = House(\"123 Main St\", 250000)\n",
    "mansion1 = Mansion(\"456 Luxury Ave\", 5000000, 10)\n",
    "\n",
    "print(house1.get_details())  # Output: Address: 123 Main St, Price: $250000\n",
    "print(mansion1.get_details())  # Output: Address: 456 Luxury Ave, Price: $5000000, Rooms: 10\n"
   ]
  },
  {
   "cell_type": "code",
   "execution_count": null,
   "id": "615c81e1-057b-4025-ad05-a5314451682a",
   "metadata": {},
   "outputs": [],
   "source": []
  }
 ],
 "metadata": {
  "kernelspec": {
   "display_name": "Python 3 (ipykernel)",
   "language": "python",
   "name": "python3"
  },
  "language_info": {
   "codemirror_mode": {
    "name": "ipython",
    "version": 3
   },
   "file_extension": ".py",
   "mimetype": "text/x-python",
   "name": "python",
   "nbconvert_exporter": "python",
   "pygments_lexer": "ipython3",
   "version": "3.12.6"
  }
 },
 "nbformat": 4,
 "nbformat_minor": 5
}
